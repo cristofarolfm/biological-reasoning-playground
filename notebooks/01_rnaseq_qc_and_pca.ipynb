{
  "nbformat": 4,
  "nbformat_minor": 0,
  "metadata": {
    "colab": {
      "provenance": [],
      "authorship_tag": "ABX9TyMnccga1SolWQFEuttrfr/X",
      "include_colab_link": true
    },
    "kernelspec": {
      "name": "python3",
      "display_name": "Python 3"
    },
    "language_info": {
      "name": "python"
    }
  },
  "cells": [
    {
      "cell_type": "markdown",
      "metadata": {
        "id": "view-in-github",
        "colab_type": "text"
      },
      "source": [
        "<a href=\"https://colab.research.google.com/github/cristofarolfm/biological-reasoning-playground/blob/main/notebooks/01_rnaseq_qc_and_pca.ipynb\" target=\"_parent\"><img src=\"https://colab.research.google.com/assets/colab-badge.svg\" alt=\"Open In Colab\"/></a>"
      ]
    },
    {
      "cell_type": "code",
      "execution_count": null,
      "metadata": {
        "id": "-y9TcF3Gw2mu"
      },
      "outputs": [],
      "source": [
        "```python\n",
        "import pandas as pd\n",
        "from sklearn.decomposition import PCA\n",
        "import matplotlib.pyplot as plt\n",
        "\n",
        "df = pd.read_csv('https://raw.githubusercontent.com/<YOUR-USERNAME>/biological-reasoning-playground/main/examples/toy_expression.csv')\n",
        "X = df.drop(columns=['gene']).T  # samples x genes\n",
        "pca = PCA(n_components=2).fit_transform(X)\n",
        "plt.scatter(pca[:,0], pca[:,1])\n",
        "plt.title('Toy RNA-seq PCA'); plt.xlabel('PC1'); plt.ylabel('PC2'); plt.show()"
      ]
    }
  ]
}