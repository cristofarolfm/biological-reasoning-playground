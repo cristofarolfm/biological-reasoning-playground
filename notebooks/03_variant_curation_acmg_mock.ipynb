{
  "nbformat": 4,
  "nbformat_minor": 0,
  "metadata": {
    "colab": {
      "provenance": [],
      "authorship_tag": "ABX9TyN9jwsMiUoJcIWI+jg8R/do",
      "include_colab_link": true
    },
    "kernelspec": {
      "name": "python3",
      "display_name": "Python 3"
    },
    "language_info": {
      "name": "python"
    }
  },
  "cells": [
    {
      "cell_type": "markdown",
      "metadata": {
        "id": "view-in-github",
        "colab_type": "text"
      },
      "source": [
        "<a href=\"https://colab.research.google.com/github/cristofarolfm/biological-reasoning-playground/blob/main/notebooks/03_variant_curation_acmg_mock.ipynb\" target=\"_parent\"><img src=\"https://colab.research.google.com/assets/colab-badge.svg\" alt=\"Open In Colab\"/></a>"
      ]
    },
    {
      "cell_type": "code",
      "execution_count": null,
      "metadata": {
        "id": "YVTfZY6lxbIm"
      },
      "outputs": [],
      "source": [
        "import pandas as pd\n",
        "from io import StringIO\n",
        "import requests\n",
        "\n",
        "# load toy variants from repo\n",
        "url = 'https://raw.githubusercontent.com/<YOUR-USERNAME>/biological-reasoning-playground/main/examples/toy_variants.csv'\n",
        "df = pd.read_csv(url)\n",
        "\n",
        "# simple evidence application\n",
        "from importlib import util\n",
        "import types, sys\n",
        "\n",
        "# fetch acmg_rules_mock.py raw and exec it (quick trick to avoid local installs)\n",
        "acmg_url = 'https://raw.githubusercontent.com/<YOUR-USERNAME>/biological-reasoning-playground/main/src/variant/acmg_rules_mock.py'\n",
        "code = requests.get(acmg_url).text\n",
        "m = types.ModuleType(\"acmg_rules_mock\")\n",
        "exec(code, m.__dict__)\n",
        "\n",
        "def classify_row(row):\n",
        "    ev = [\n",
        "        m.frequency_evidence(row['allele_freq']),\n",
        "        m.impact_evidence(row['impact']),\n",
        "        m.literature_evidence(row['pmids'])\n",
        "    ]\n",
        "    return m.classify(ev)\n",
        "\n",
        "df['classification'] = df.apply(classify_row, axis=1)\n",
        "df[['gene','hgvs_c','hgvs_p','classification']]\n"
      ]
    }
  ]
}